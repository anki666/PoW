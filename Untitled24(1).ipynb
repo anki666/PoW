{
 "cells": [
  {
   "cell_type": "markdown",
   "id": "395366dd",
   "metadata": {},
   "source": [
    "## Write a Python class to implement pow(x, n)"
   ]
  },
  {
   "cell_type": "code",
   "execution_count": 28,
   "id": "67e39e57",
   "metadata": {},
   "outputs": [
    {
     "name": "stdout",
     "output_type": "stream",
     "text": [
      "100\n"
     ]
    }
   ],
   "source": [
    "class power:\n",
    "\n",
    "    def n_th(x,n):\n",
    "\n",
    "        return pow(x,n)\n",
    "\n",
    "print(power.n_th(10,2))"
   ]
  },
  {
   "cell_type": "code",
   "execution_count": null,
   "id": "a485045c",
   "metadata": {},
   "outputs": [],
   "source": []
  }
 ],
 "metadata": {
  "kernelspec": {
   "display_name": "Python 3 (ipykernel)",
   "language": "python",
   "name": "python3"
  },
  "language_info": {
   "codemirror_mode": {
    "name": "ipython",
    "version": 3
   },
   "file_extension": ".py",
   "mimetype": "text/x-python",
   "name": "python",
   "nbconvert_exporter": "python",
   "pygments_lexer": "ipython3",
   "version": "3.7.3"
  }
 },
 "nbformat": 4,
 "nbformat_minor": 5
}
